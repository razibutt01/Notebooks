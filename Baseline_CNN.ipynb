{
 "cells": [
  {
   "cell_type": "code",
   "execution_count": 1,
   "metadata": {
    "colab": {
     "base_uri": "https://localhost:8080/",
     "height": 35
    },
    "colab_type": "code",
    "id": "HeBr3U9dzBBg",
    "outputId": "e9658d5f-c4d8-478c-ddcf-d687edddd7e5"
   },
   "outputs": [],
   "source": [
    "import numpy as np\n",
    "import pandas as pd\n",
    "from sklearn.model_selection import train_test_split\n",
    "from keras.utils.np_utils import to_categorical # convert to one-hot-encoding\n",
    "\n",
    "from tensorflow.keras.preprocessing.image import ImageDataGenerator\n",
    "from tensorflow.keras import layers\n",
    "from tensorflow.keras import Model\n",
    "from tensorflow.keras.optimizers import Adam\n",
    "from tensorflow.keras.callbacks import ReduceLROnPlateau\n",
    "%matplotlib inline\n",
    "\n",
    "import matplotlib.pyplot as plt"
   ]
  },
  {
   "cell_type": "markdown",
   "metadata": {
    "colab_type": "text",
    "id": "M1BzjwNzUB1T"
   },
   "source": [
    "## Load In the Data"
   ]
  },
  {
   "cell_type": "code",
   "execution_count": 7,
   "metadata": {
    "colab": {},
    "colab_type": "code",
    "id": "F3zhcgJD4lhk"
   },
   "outputs": [],
   "source": [
    "skin_df = pd.read_csv('hmnist_64_64_RGB.csv')"
   ]
  },
  {
   "cell_type": "code",
   "execution_count": 8,
   "metadata": {
    "colab": {
     "base_uri": "https://localhost:8080/",
     "height": 247
    },
    "colab_type": "code",
    "id": "W-viELZ74uN2",
    "outputId": "44f1763e-1b74-4434-e99c-51e295052387"
   },
   "outputs": [
    {
     "data": {
      "text/html": [
       "<div>\n",
       "<style scoped>\n",
       "    .dataframe tbody tr th:only-of-type {\n",
       "        vertical-align: middle;\n",
       "    }\n",
       "\n",
       "    .dataframe tbody tr th {\n",
       "        vertical-align: top;\n",
       "    }\n",
       "\n",
       "    .dataframe thead th {\n",
       "        text-align: right;\n",
       "    }\n",
       "</style>\n",
       "<table border=\"1\" class=\"dataframe\">\n",
       "  <thead>\n",
       "    <tr style=\"text-align: right;\">\n",
       "      <th></th>\n",
       "      <th>pixel0000</th>\n",
       "      <th>pixel0001</th>\n",
       "      <th>pixel0002</th>\n",
       "      <th>pixel0003</th>\n",
       "      <th>pixel0004</th>\n",
       "      <th>pixel0005</th>\n",
       "      <th>pixel0006</th>\n",
       "      <th>pixel0007</th>\n",
       "      <th>pixel0008</th>\n",
       "      <th>pixel0009</th>\n",
       "      <th>...</th>\n",
       "      <th>pixel12279</th>\n",
       "      <th>pixel12280</th>\n",
       "      <th>pixel12281</th>\n",
       "      <th>pixel12282</th>\n",
       "      <th>pixel12283</th>\n",
       "      <th>pixel12284</th>\n",
       "      <th>pixel12285</th>\n",
       "      <th>pixel12286</th>\n",
       "      <th>pixel12287</th>\n",
       "      <th>label</th>\n",
       "    </tr>\n",
       "  </thead>\n",
       "  <tbody>\n",
       "    <tr>\n",
       "      <th>0</th>\n",
       "      <td>185</td>\n",
       "      <td>108</td>\n",
       "      <td>136</td>\n",
       "      <td>151</td>\n",
       "      <td>71</td>\n",
       "      <td>108</td>\n",
       "      <td>176</td>\n",
       "      <td>89</td>\n",
       "      <td>128</td>\n",
       "      <td>191</td>\n",
       "      <td>...</td>\n",
       "      <td>180</td>\n",
       "      <td>97</td>\n",
       "      <td>139</td>\n",
       "      <td>190</td>\n",
       "      <td>113</td>\n",
       "      <td>151</td>\n",
       "      <td>229</td>\n",
       "      <td>179</td>\n",
       "      <td>194</td>\n",
       "      <td>2</td>\n",
       "    </tr>\n",
       "    <tr>\n",
       "      <th>1</th>\n",
       "      <td>116</td>\n",
       "      <td>26</td>\n",
       "      <td>53</td>\n",
       "      <td>139</td>\n",
       "      <td>30</td>\n",
       "      <td>51</td>\n",
       "      <td>152</td>\n",
       "      <td>38</td>\n",
       "      <td>59</td>\n",
       "      <td>138</td>\n",
       "      <td>...</td>\n",
       "      <td>137</td>\n",
       "      <td>32</td>\n",
       "      <td>53</td>\n",
       "      <td>140</td>\n",
       "      <td>34</td>\n",
       "      <td>55</td>\n",
       "      <td>148</td>\n",
       "      <td>32</td>\n",
       "      <td>56</td>\n",
       "      <td>2</td>\n",
       "    </tr>\n",
       "    <tr>\n",
       "      <th>2</th>\n",
       "      <td>176</td>\n",
       "      <td>82</td>\n",
       "      <td>123</td>\n",
       "      <td>176</td>\n",
       "      <td>85</td>\n",
       "      <td>125</td>\n",
       "      <td>195</td>\n",
       "      <td>106</td>\n",
       "      <td>144</td>\n",
       "      <td>210</td>\n",
       "      <td>...</td>\n",
       "      <td>196</td>\n",
       "      <td>93</td>\n",
       "      <td>139</td>\n",
       "      <td>147</td>\n",
       "      <td>57</td>\n",
       "      <td>102</td>\n",
       "      <td>177</td>\n",
       "      <td>93</td>\n",
       "      <td>130</td>\n",
       "      <td>2</td>\n",
       "    </tr>\n",
       "    <tr>\n",
       "      <th>3</th>\n",
       "      <td>152</td>\n",
       "      <td>52</td>\n",
       "      <td>89</td>\n",
       "      <td>139</td>\n",
       "      <td>52</td>\n",
       "      <td>90</td>\n",
       "      <td>148</td>\n",
       "      <td>57</td>\n",
       "      <td>97</td>\n",
       "      <td>158</td>\n",
       "      <td>...</td>\n",
       "      <td>156</td>\n",
       "      <td>45</td>\n",
       "      <td>65</td>\n",
       "      <td>118</td>\n",
       "      <td>35</td>\n",
       "      <td>70</td>\n",
       "      <td>85</td>\n",
       "      <td>27</td>\n",
       "      <td>62</td>\n",
       "      <td>2</td>\n",
       "    </tr>\n",
       "    <tr>\n",
       "      <th>4</th>\n",
       "      <td>214</td>\n",
       "      <td>144</td>\n",
       "      <td>179</td>\n",
       "      <td>182</td>\n",
       "      <td>121</td>\n",
       "      <td>162</td>\n",
       "      <td>178</td>\n",
       "      <td>120</td>\n",
       "      <td>152</td>\n",
       "      <td>180</td>\n",
       "      <td>...</td>\n",
       "      <td>189</td>\n",
       "      <td>117</td>\n",
       "      <td>156</td>\n",
       "      <td>200</td>\n",
       "      <td>136</td>\n",
       "      <td>169</td>\n",
       "      <td>197</td>\n",
       "      <td>125</td>\n",
       "      <td>155</td>\n",
       "      <td>2</td>\n",
       "    </tr>\n",
       "  </tbody>\n",
       "</table>\n",
       "<p>5 rows × 12289 columns</p>\n",
       "</div>"
      ],
      "text/plain": [
       "   pixel0000  pixel0001  pixel0002  pixel0003  pixel0004  pixel0005  \\\n",
       "0        185        108        136        151         71        108   \n",
       "1        116         26         53        139         30         51   \n",
       "2        176         82        123        176         85        125   \n",
       "3        152         52         89        139         52         90   \n",
       "4        214        144        179        182        121        162   \n",
       "\n",
       "   pixel0006  pixel0007  pixel0008  pixel0009  ...  pixel12279  pixel12280  \\\n",
       "0        176         89        128        191  ...         180          97   \n",
       "1        152         38         59        138  ...         137          32   \n",
       "2        195        106        144        210  ...         196          93   \n",
       "3        148         57         97        158  ...         156          45   \n",
       "4        178        120        152        180  ...         189         117   \n",
       "\n",
       "   pixel12281  pixel12282  pixel12283  pixel12284  pixel12285  pixel12286  \\\n",
       "0         139         190         113         151         229         179   \n",
       "1          53         140          34          55         148          32   \n",
       "2         139         147          57         102         177          93   \n",
       "3          65         118          35          70          85          27   \n",
       "4         156         200         136         169         197         125   \n",
       "\n",
       "   pixel12287  label  \n",
       "0         194      2  \n",
       "1          56      2  \n",
       "2         130      2  \n",
       "3          62      2  \n",
       "4         155      2  \n",
       "\n",
       "[5 rows x 12289 columns]"
      ]
     },
     "execution_count": 8,
     "metadata": {},
     "output_type": "execute_result"
    }
   ],
   "source": [
    "skin_df.head()"
   ]
  },
  {
   "cell_type": "code",
   "execution_count": 64,
   "metadata": {
    "colab": {},
    "colab_type": "code",
    "id": "C1psqaTj45AM"
   },
   "outputs": [],
   "source": [
    "X = skin_df.drop(\"label\", axis=1).to_numpy()\n",
    "label = skin_df[\"label\"].values\n"
   ]
  },
  {
   "cell_type": "code",
   "execution_count": 29,
   "metadata": {
    "colab": {
     "base_uri": "https://localhost:8080/",
     "height": 35
    },
    "colab_type": "code",
    "id": "1e2D7SCz5LQh",
    "outputId": "cb30d359-a2b0-4e0b-c501-6a3288c3ffb5"
   },
   "outputs": [
    {
     "data": {
      "text/plain": [
       "((5000, 12288), (5000,))"
      ]
     },
     "execution_count": 29,
     "metadata": {},
     "output_type": "execute_result"
    }
   ],
   "source": [
    "X.shape, label.shape"
   ]
  },
  {
   "cell_type": "markdown",
   "metadata": {
    "colab_type": "text",
    "id": "E3iU_vSjUIpn"
   },
   "source": [
    "## Scaling and Split Data into Train, Validation and Test set"
   ]
  },
  {
   "cell_type": "code",
   "execution_count": 12,
   "metadata": {
    "colab": {},
    "colab_type": "code",
    "id": "q25NL3-X5jry"
   },
   "outputs": [],
   "source": [
    "X_mean = np.mean(X)\n",
    "X_std = np.std(X)\n",
    "\n",
    "X = (X - X_mean)/X_std"
   ]
  },
  {
   "cell_type": "code",
   "execution_count": 13,
   "metadata": {
    "colab": {},
    "colab_type": "code",
    "id": "oGH8wMmy6Mew"
   },
   "outputs": [],
   "source": [
    "X_train_orig, X_test, y_train_orig, y_test = train_test_split(X, label, test_size=0.1,random_state=0)"
   ]
  },
  {
   "cell_type": "code",
   "execution_count": 14,
   "metadata": {
    "colab": {
     "base_uri": "https://localhost:8080/",
     "height": 35
    },
    "colab_type": "code",
    "id": "hU0BQ6c6B1tu",
    "outputId": "2a213eec-e04a-4bef-fd97-27321013c5a7"
   },
   "outputs": [
    {
     "data": {
      "text/plain": [
       "((4500, 12288), (500, 12288), (4500,), (500,))"
      ]
     },
     "execution_count": 14,
     "metadata": {},
     "output_type": "execute_result"
    }
   ],
   "source": [
    "X_train_orig.shape, X_test.shape, y_train_orig.shape, y_test.shape"
   ]
  },
  {
   "cell_type": "code",
   "execution_count": 15,
   "metadata": {
    "colab": {},
    "colab_type": "code",
    "id": "_WzFxSy1ByyY"
   },
   "outputs": [],
   "source": [
    "X_train, X_val, y_train, y_val = train_test_split(X_train_orig, y_train_orig, test_size=0.2, random_state=1)"
   ]
  },
  {
   "cell_type": "code",
   "execution_count": 16,
   "metadata": {
    "colab": {
     "base_uri": "https://localhost:8080/",
     "height": 35
    },
    "colab_type": "code",
    "id": "HiK1KmsMCF5B",
    "outputId": "731610d1-06ec-4df9-c9b5-867bf7a33138"
   },
   "outputs": [
    {
     "data": {
      "text/plain": [
       "((3600, 12288), (900, 12288), (3600,), (900,))"
      ]
     },
     "execution_count": 16,
     "metadata": {},
     "output_type": "execute_result"
    }
   ],
   "source": [
    "X_train.shape, X_val.shape, y_train.shape, y_val.shape"
   ]
  },
  {
   "cell_type": "markdown",
   "metadata": {
    "colab_type": "text",
    "id": "4Zl7b9mFURFJ"
   },
   "source": [
    "## Reshape the Data to Input in CNN"
   ]
  },
  {
   "cell_type": "code",
   "execution_count": 17,
   "metadata": {
    "colab": {},
    "colab_type": "code",
    "id": "mdbb6U1W6mx2"
   },
   "outputs": [],
   "source": [
    "X_train = X_train.reshape(X_train.shape[0], *(64, 64, 3))\n",
    "X_val = X_val.reshape(X_val.shape[0], *(64, 64, 3))\n",
    "X_test = X_test.reshape(X_test.shape[0], *(64, 64, 3))"
   ]
  },
  {
   "cell_type": "code",
   "execution_count": 18,
   "metadata": {
    "colab": {
     "base_uri": "https://localhost:8080/",
     "height": 35
    },
    "colab_type": "code",
    "id": "odlh2eEz629K",
    "outputId": "98c81273-d8af-43da-8aa6-eca193a59dbd"
   },
   "outputs": [
    {
     "data": {
      "text/plain": [
       "((3600, 64, 64, 3), (900, 64, 64, 3), (500, 64, 64, 3))"
      ]
     },
     "execution_count": 18,
     "metadata": {},
     "output_type": "execute_result"
    }
   ],
   "source": [
    "X_train.shape, X_val.shape, X_test.shape"
   ]
  },
  {
   "cell_type": "code",
   "execution_count": 19,
   "metadata": {
    "colab": {
     "base_uri": "https://localhost:8080/",
     "height": 35
    },
    "colab_type": "code",
    "id": "ToBfm6FCE82c",
    "outputId": "4289e6c7-c7e4-4562-dee2-ecaa11b6815c"
   },
   "outputs": [
    {
     "data": {
      "text/plain": [
       "(3600,)"
      ]
     },
     "execution_count": 19,
     "metadata": {},
     "output_type": "execute_result"
    }
   ],
   "source": [
    "y_train.shape"
   ]
  },
  {
   "cell_type": "code",
   "execution_count": 20,
   "metadata": {
    "colab": {},
    "colab_type": "code",
    "id": "bv1nE9AkBMXJ"
   },
   "outputs": [],
   "source": [
    "y_train = to_categorical(y_train)\n",
    "y_val = to_categorical(y_val)\n",
    "y_test = to_categorical(y_test)"
   ]
  },
  {
   "cell_type": "code",
   "execution_count": 21,
   "metadata": {
    "colab": {
     "base_uri": "https://localhost:8080/",
     "height": 35
    },
    "colab_type": "code",
    "id": "UuRfmdeYCsW5",
    "outputId": "ae8001b5-53a6-4ee9-f3c8-498150246a55"
   },
   "outputs": [
    {
     "data": {
      "text/plain": [
       "((3600, 9), (900, 9), (500, 9))"
      ]
     },
     "execution_count": 21,
     "metadata": {},
     "output_type": "execute_result"
    }
   ],
   "source": [
    "y_train.shape, y_val.shape, y_test.shape"
   ]
  },
  {
   "cell_type": "markdown",
   "metadata": {
    "colab_type": "text",
    "id": "5vVaAuWtUVJU"
   },
   "source": [
    "## CNN Model"
   ]
  },
  {
   "cell_type": "code",
   "execution_count": 65,
   "metadata": {
    "colab": {},
    "colab_type": "code",
    "id": "9i2prFW67mwJ"
   },
   "outputs": [
    {
     "name": "stderr",
     "output_type": "stream",
     "text": [
      "C:\\Users\\RaziButt\\anaconda3\\lib\\site-packages\\keras\\optimizers\\optimizer_v2\\adam.py:114: UserWarning: The `lr` argument is deprecated, use `learning_rate` instead.\n",
      "  super().__init__(name, **kwargs)\n"
     ]
    }
   ],
   "source": [
    "# Our input feature map is 64x64x3: 64x64 for the image pixels, and 3 for\n",
    "# the three color channels: R, G, and B\n",
    "img_input = layers.Input(shape=(64, 64, 3))\n",
    "\n",
    "# First convolution extracts 16 filters that are 3x3\n",
    "# Convolution is followed by max-pooling layer with a 2x2 window\n",
    "x = layers.Conv2D(16, 3, activation='relu', padding='same')(img_input)\n",
    "x = layers.MaxPooling2D(2)(x)\n",
    "\n",
    "# Second convolution extracts 32 filters that are 3x3\n",
    "# Convolution is followed by max-pooling layer with a 2x2 window\n",
    "x = layers.Conv2D(32, 3, activation='relu', padding='same')(x)\n",
    "x = layers.MaxPooling2D(2)(x)\n",
    "\n",
    "# Third convolution extracts 64 filters that are 3x3\n",
    "# Convolution is followed by max-pooling layer with a 2x2 window\n",
    "x = layers.Convolution2D(64, 3, activation='relu', padding='same')(x)\n",
    "x = layers.MaxPooling2D(2)(x)\n",
    "\n",
    "# Flatten feature map to a 1-dim tensor\n",
    "x = layers.Flatten()(x)\n",
    "\n",
    "# Create a fully connected layer with ReLU activation and 512 hidden units\n",
    "x = layers.Dense(512, activation='relu')(x)\n",
    "\n",
    "# Add a dropout rate of 0.5\n",
    "x = layers.Dropout(0.5)(x)\n",
    "\n",
    "# Create output layer with a single node and sigmoid activation\n",
    "output = layers.Dense(9, activation='softmax')(x)\n",
    "\n",
    "# Configure and compile the model\n",
    "model = Model(img_input, output)\n",
    "\n",
    "optimizer = Adam(lr=0.001, beta_1=0.9, beta_2=0.999, epsilon=None, decay=0.0, amsgrad=False)\n",
    "\n",
    "model.compile(loss='categorical_crossentropy', optimizer=optimizer, metrics=['accuracy'])\n"
   ]
  },
  {
   "cell_type": "code",
   "execution_count": 66,
   "metadata": {
    "colab": {
     "base_uri": "https://localhost:8080/",
     "height": 518
    },
    "colab_type": "code",
    "id": "JXh46jmDA9c6",
    "outputId": "290fa9f9-c12d-4179-e6b5-9126af32f189"
   },
   "outputs": [
    {
     "name": "stdout",
     "output_type": "stream",
     "text": [
      "Model: \"model_12\"\n",
      "_________________________________________________________________\n",
      " Layer (type)                Output Shape              Param #   \n",
      "=================================================================\n",
      " input_16 (InputLayer)       [(None, 64, 64, 3)]       0         \n",
      "                                                                 \n",
      " conv2d_42 (Conv2D)          (None, 64, 64, 16)        448       \n",
      "                                                                 \n",
      " max_pooling2d_42 (MaxPoolin  (None, 32, 32, 16)       0         \n",
      " g2D)                                                            \n",
      "                                                                 \n",
      " conv2d_43 (Conv2D)          (None, 32, 32, 32)        4640      \n",
      "                                                                 \n",
      " max_pooling2d_43 (MaxPoolin  (None, 16, 16, 32)       0         \n",
      " g2D)                                                            \n",
      "                                                                 \n",
      " conv2d_44 (Conv2D)          (None, 16, 16, 64)        18496     \n",
      "                                                                 \n",
      " max_pooling2d_44 (MaxPoolin  (None, 8, 8, 64)         0         \n",
      " g2D)                                                            \n",
      "                                                                 \n",
      " flatten_14 (Flatten)        (None, 4096)              0         \n",
      "                                                                 \n",
      " dense_26 (Dense)            (None, 512)               2097664   \n",
      "                                                                 \n",
      " dropout_14 (Dropout)        (None, 512)               0         \n",
      "                                                                 \n",
      " dense_27 (Dense)            (None, 9)                 4617      \n",
      "                                                                 \n",
      "=================================================================\n",
      "Total params: 2,125,865\n",
      "Trainable params: 2,125,865\n",
      "Non-trainable params: 0\n",
      "_________________________________________________________________\n"
     ]
    }
   ],
   "source": [
    "model.summary()"
   ]
  },
  {
   "cell_type": "markdown",
   "metadata": {
    "colab_type": "text",
    "id": "fSoYM0JEUbGT"
   },
   "source": [
    "## Define Data Generator for Data Augmentation and Learning Rate Adaptive Reduction to Prevent Overfitting"
   ]
  },
  {
   "cell_type": "code",
   "execution_count": 67,
   "metadata": {
    "colab": {},
    "colab_type": "code",
    "id": "_ITW1SFVFuHk"
   },
   "outputs": [],
   "source": [
    "train_datagen = ImageDataGenerator(rotation_range=40, width_shift_range=0.2, height_shift_range=0.2,\n",
    "                             shear_range=0.2, zoom_range=0.2, horizontal_flip=True, fill_mode='nearest')\n",
    "\n",
    "train_datagen.fit(X_train)\n",
    "\n",
    "val_datagen = ImageDataGenerator()\n",
    "val_datagen.fit(X_val)"
   ]
  },
  {
   "cell_type": "code",
   "execution_count": 68,
   "metadata": {
    "colab": {},
    "colab_type": "code",
    "id": "-FvlOkvw8GJ0"
   },
   "outputs": [],
   "source": [
    "learning_rate_reduction = ReduceLROnPlateau(monitor='val_acc', patience=3, verbose=1, factor=0.5, min_lr=0.00001)"
   ]
  },
  {
   "cell_type": "code",
   "execution_count": 69,
   "metadata": {
    "colab": {
     "base_uri": "https://localhost:8080/",
     "height": 1212
    },
    "colab_type": "code",
    "id": "epgliUU-_EWz",
    "outputId": "52c0a22e-7b64-40d5-ef4f-6ee75685e2af",
    "scrolled": false
   },
   "outputs": [
    {
     "name": "stdout",
     "output_type": "stream",
     "text": [
      "Epoch 1/30\n",
      "56/56 [==============================] - ETA: 0s - loss: 1.1106 - accuracy: 0.5130WARNING:tensorflow:Learning rate reduction is conditioned on metric `val_acc` which is not available. Available metrics are: loss,accuracy,val_loss,val_accuracy,lr\n",
      "56/56 [==============================] - 20s 287ms/step - loss: 1.1106 - accuracy: 0.5130 - val_loss: 0.7924 - val_accuracy: 0.7222 - lr: 0.0010\n",
      "Epoch 2/30\n",
      "56/56 [==============================] - ETA: 0s - loss: 0.8036 - accuracy: 0.6759WARNING:tensorflow:Learning rate reduction is conditioned on metric `val_acc` which is not available. Available metrics are: loss,accuracy,val_loss,val_accuracy,lr\n",
      "56/56 [==============================] - 16s 282ms/step - loss: 0.8036 - accuracy: 0.6759 - val_loss: 0.6352 - val_accuracy: 0.7556 - lr: 0.0010\n",
      "Epoch 3/30\n",
      "56/56 [==============================] - ETA: 0s - loss: 0.6604 - accuracy: 0.7525WARNING:tensorflow:Learning rate reduction is conditioned on metric `val_acc` which is not available. Available metrics are: loss,accuracy,val_loss,val_accuracy,lr\n",
      "56/56 [==============================] - 16s 285ms/step - loss: 0.6604 - accuracy: 0.7525 - val_loss: 0.6466 - val_accuracy: 0.7456 - lr: 0.0010\n",
      "Epoch 4/30\n",
      "56/56 [==============================] - ETA: 0s - loss: 0.6473 - accuracy: 0.7534WARNING:tensorflow:Learning rate reduction is conditioned on metric `val_acc` which is not available. Available metrics are: loss,accuracy,val_loss,val_accuracy,lr\n",
      "56/56 [==============================] - 16s 293ms/step - loss: 0.6473 - accuracy: 0.7534 - val_loss: 0.5195 - val_accuracy: 0.8044 - lr: 0.0010\n",
      "Epoch 5/30\n",
      "56/56 [==============================] - ETA: 0s - loss: 0.5657 - accuracy: 0.7899WARNING:tensorflow:Learning rate reduction is conditioned on metric `val_acc` which is not available. Available metrics are: loss,accuracy,val_loss,val_accuracy,lr\n",
      "56/56 [==============================] - 16s 286ms/step - loss: 0.5657 - accuracy: 0.7899 - val_loss: 0.4819 - val_accuracy: 0.8244 - lr: 0.0010\n",
      "Epoch 6/30\n",
      "56/56 [==============================] - ETA: 0s - loss: 0.5419 - accuracy: 0.7995WARNING:tensorflow:Learning rate reduction is conditioned on metric `val_acc` which is not available. Available metrics are: loss,accuracy,val_loss,val_accuracy,lr\n",
      "56/56 [==============================] - 16s 288ms/step - loss: 0.5419 - accuracy: 0.7995 - val_loss: 0.5043 - val_accuracy: 0.8144 - lr: 0.0010\n",
      "Epoch 7/30\n",
      "56/56 [==============================] - ETA: 0s - loss: 0.5365 - accuracy: 0.7967WARNING:tensorflow:Learning rate reduction is conditioned on metric `val_acc` which is not available. Available metrics are: loss,accuracy,val_loss,val_accuracy,lr\n",
      "56/56 [==============================] - 18s 312ms/step - loss: 0.5365 - accuracy: 0.7967 - val_loss: 0.5131 - val_accuracy: 0.8144 - lr: 0.0010\n",
      "Epoch 8/30\n",
      "56/56 [==============================] - ETA: 0s - loss: 0.5480 - accuracy: 0.7907WARNING:tensorflow:Learning rate reduction is conditioned on metric `val_acc` which is not available. Available metrics are: loss,accuracy,val_loss,val_accuracy,lr\n",
      "56/56 [==============================] - 16s 289ms/step - loss: 0.5480 - accuracy: 0.7907 - val_loss: 0.5853 - val_accuracy: 0.7733 - lr: 0.0010\n",
      "Epoch 9/30\n",
      "56/56 [==============================] - ETA: 0s - loss: 0.4810 - accuracy: 0.8230WARNING:tensorflow:Learning rate reduction is conditioned on metric `val_acc` which is not available. Available metrics are: loss,accuracy,val_loss,val_accuracy,lr\n",
      "56/56 [==============================] - 16s 294ms/step - loss: 0.4810 - accuracy: 0.8230 - val_loss: 0.4198 - val_accuracy: 0.8289 - lr: 0.0010\n",
      "Epoch 10/30\n",
      "56/56 [==============================] - ETA: 0s - loss: 0.4464 - accuracy: 0.8337WARNING:tensorflow:Learning rate reduction is conditioned on metric `val_acc` which is not available. Available metrics are: loss,accuracy,val_loss,val_accuracy,lr\n",
      "56/56 [==============================] - 17s 310ms/step - loss: 0.4464 - accuracy: 0.8337 - val_loss: 0.4235 - val_accuracy: 0.8433 - lr: 0.0010\n",
      "Epoch 11/30\n",
      "56/56 [==============================] - ETA: 0s - loss: 0.4711 - accuracy: 0.8255WARNING:tensorflow:Learning rate reduction is conditioned on metric `val_acc` which is not available. Available metrics are: loss,accuracy,val_loss,val_accuracy,lr\n",
      "56/56 [==============================] - 18s 322ms/step - loss: 0.4711 - accuracy: 0.8255 - val_loss: 0.4140 - val_accuracy: 0.8600 - lr: 0.0010\n",
      "Epoch 12/30\n",
      "56/56 [==============================] - ETA: 0s - loss: 0.4528 - accuracy: 0.8317WARNING:tensorflow:Learning rate reduction is conditioned on metric `val_acc` which is not available. Available metrics are: loss,accuracy,val_loss,val_accuracy,lr\n",
      "56/56 [==============================] - 19s 331ms/step - loss: 0.4528 - accuracy: 0.8317 - val_loss: 0.4071 - val_accuracy: 0.8556 - lr: 0.0010\n",
      "Epoch 13/30\n",
      "56/56 [==============================] - ETA: 0s - loss: 0.4500 - accuracy: 0.8334WARNING:tensorflow:Learning rate reduction is conditioned on metric `val_acc` which is not available. Available metrics are: loss,accuracy,val_loss,val_accuracy,lr\n",
      "56/56 [==============================] - 18s 318ms/step - loss: 0.4500 - accuracy: 0.8334 - val_loss: 0.4355 - val_accuracy: 0.8400 - lr: 0.0010\n",
      "Epoch 14/30\n",
      "56/56 [==============================] - ETA: 0s - loss: 0.4286 - accuracy: 0.8428WARNING:tensorflow:Learning rate reduction is conditioned on metric `val_acc` which is not available. Available metrics are: loss,accuracy,val_loss,val_accuracy,lr\n",
      "56/56 [==============================] - 17s 310ms/step - loss: 0.4286 - accuracy: 0.8428 - val_loss: 0.4014 - val_accuracy: 0.8622 - lr: 0.0010\n",
      "Epoch 15/30\n",
      "56/56 [==============================] - ETA: 0s - loss: 0.4186 - accuracy: 0.8428WARNING:tensorflow:Learning rate reduction is conditioned on metric `val_acc` which is not available. Available metrics are: loss,accuracy,val_loss,val_accuracy,lr\n",
      "56/56 [==============================] - 17s 311ms/step - loss: 0.4186 - accuracy: 0.8428 - val_loss: 0.4042 - val_accuracy: 0.8533 - lr: 0.0010\n",
      "Epoch 16/30\n",
      "56/56 [==============================] - ETA: 0s - loss: 0.3978 - accuracy: 0.8583WARNING:tensorflow:Learning rate reduction is conditioned on metric `val_acc` which is not available. Available metrics are: loss,accuracy,val_loss,val_accuracy,lr\n",
      "56/56 [==============================] - 16s 280ms/step - loss: 0.3978 - accuracy: 0.8583 - val_loss: 0.3524 - val_accuracy: 0.8733 - lr: 0.0010\n",
      "Epoch 17/30\n",
      "56/56 [==============================] - ETA: 0s - loss: 0.3885 - accuracy: 0.8580WARNING:tensorflow:Learning rate reduction is conditioned on metric `val_acc` which is not available. Available metrics are: loss,accuracy,val_loss,val_accuracy,lr\n",
      "56/56 [==============================] - 16s 277ms/step - loss: 0.3885 - accuracy: 0.8580 - val_loss: 0.3838 - val_accuracy: 0.8600 - lr: 0.0010\n",
      "Epoch 18/30\n",
      "56/56 [==============================] - ETA: 0s - loss: 0.3684 - accuracy: 0.8660WARNING:tensorflow:Learning rate reduction is conditioned on metric `val_acc` which is not available. Available metrics are: loss,accuracy,val_loss,val_accuracy,lr\n",
      "56/56 [==============================] - 16s 281ms/step - loss: 0.3684 - accuracy: 0.8660 - val_loss: 0.3605 - val_accuracy: 0.8622 - lr: 0.0010\n",
      "Epoch 19/30\n",
      "56/56 [==============================] - ETA: 0s - loss: 0.3601 - accuracy: 0.8685WARNING:tensorflow:Learning rate reduction is conditioned on metric `val_acc` which is not available. Available metrics are: loss,accuracy,val_loss,val_accuracy,lr\n",
      "56/56 [==============================] - 16s 284ms/step - loss: 0.3601 - accuracy: 0.8685 - val_loss: 0.3552 - val_accuracy: 0.8667 - lr: 0.0010\n",
      "Epoch 20/30\n",
      "56/56 [==============================] - ETA: 0s - loss: 0.3526 - accuracy: 0.8753WARNING:tensorflow:Learning rate reduction is conditioned on metric `val_acc` which is not available. Available metrics are: loss,accuracy,val_loss,val_accuracy,lr\n",
      "56/56 [==============================] - 16s 281ms/step - loss: 0.3526 - accuracy: 0.8753 - val_loss: 0.4235 - val_accuracy: 0.8444 - lr: 0.0010\n",
      "Epoch 21/30\n",
      "56/56 [==============================] - ETA: 0s - loss: 0.3297 - accuracy: 0.8838WARNING:tensorflow:Learning rate reduction is conditioned on metric `val_acc` which is not available. Available metrics are: loss,accuracy,val_loss,val_accuracy,lr\n"
     ]
    },
    {
     "name": "stdout",
     "output_type": "stream",
     "text": [
      "56/56 [==============================] - 16s 280ms/step - loss: 0.3297 - accuracy: 0.8838 - val_loss: 0.3760 - val_accuracy: 0.8656 - lr: 0.0010\n",
      "Epoch 22/30\n",
      "56/56 [==============================] - ETA: 0s - loss: 0.3715 - accuracy: 0.8614WARNING:tensorflow:Learning rate reduction is conditioned on metric `val_acc` which is not available. Available metrics are: loss,accuracy,val_loss,val_accuracy,lr\n",
      "56/56 [==============================] - 16s 280ms/step - loss: 0.3715 - accuracy: 0.8614 - val_loss: 0.3308 - val_accuracy: 0.8800 - lr: 0.0010\n",
      "Epoch 23/30\n",
      "56/56 [==============================] - ETA: 0s - loss: 0.3487 - accuracy: 0.8761WARNING:tensorflow:Learning rate reduction is conditioned on metric `val_acc` which is not available. Available metrics are: loss,accuracy,val_loss,val_accuracy,lr\n",
      "56/56 [==============================] - 16s 278ms/step - loss: 0.3487 - accuracy: 0.8761 - val_loss: 0.3066 - val_accuracy: 0.8844 - lr: 0.0010\n",
      "Epoch 24/30\n",
      "56/56 [==============================] - ETA: 0s - loss: 0.3536 - accuracy: 0.8705WARNING:tensorflow:Learning rate reduction is conditioned on metric `val_acc` which is not available. Available metrics are: loss,accuracy,val_loss,val_accuracy,lr\n",
      "56/56 [==============================] - 17s 299ms/step - loss: 0.3536 - accuracy: 0.8705 - val_loss: 0.3223 - val_accuracy: 0.8789 - lr: 0.0010\n",
      "Epoch 25/30\n",
      "56/56 [==============================] - ETA: 0s - loss: 0.3507 - accuracy: 0.8750WARNING:tensorflow:Learning rate reduction is conditioned on metric `val_acc` which is not available. Available metrics are: loss,accuracy,val_loss,val_accuracy,lr\n",
      "56/56 [==============================] - 16s 278ms/step - loss: 0.3507 - accuracy: 0.8750 - val_loss: 0.3927 - val_accuracy: 0.8622 - lr: 0.0010\n",
      "Epoch 26/30\n",
      "56/56 [==============================] - ETA: 0s - loss: 0.3092 - accuracy: 0.8891WARNING:tensorflow:Learning rate reduction is conditioned on metric `val_acc` which is not available. Available metrics are: loss,accuracy,val_loss,val_accuracy,lr\n",
      "56/56 [==============================] - 16s 276ms/step - loss: 0.3092 - accuracy: 0.8891 - val_loss: 0.3388 - val_accuracy: 0.8700 - lr: 0.0010\n",
      "Epoch 27/30\n",
      "56/56 [==============================] - ETA: 0s - loss: 0.3330 - accuracy: 0.8781WARNING:tensorflow:Learning rate reduction is conditioned on metric `val_acc` which is not available. Available metrics are: loss,accuracy,val_loss,val_accuracy,lr\n",
      "56/56 [==============================] - 16s 284ms/step - loss: 0.3330 - accuracy: 0.8781 - val_loss: 0.3810 - val_accuracy: 0.8600 - lr: 0.0010\n",
      "Epoch 28/30\n",
      "56/56 [==============================] - ETA: 0s - loss: 0.3198 - accuracy: 0.8891WARNING:tensorflow:Learning rate reduction is conditioned on metric `val_acc` which is not available. Available metrics are: loss,accuracy,val_loss,val_accuracy,lr\n",
      "56/56 [==============================] - 16s 284ms/step - loss: 0.3198 - accuracy: 0.8891 - val_loss: 0.3580 - val_accuracy: 0.8756 - lr: 0.0010\n",
      "Epoch 29/30\n",
      "56/56 [==============================] - ETA: 0s - loss: 0.2999 - accuracy: 0.8917WARNING:tensorflow:Learning rate reduction is conditioned on metric `val_acc` which is not available. Available metrics are: loss,accuracy,val_loss,val_accuracy,lr\n",
      "56/56 [==============================] - 16s 277ms/step - loss: 0.2999 - accuracy: 0.8917 - val_loss: 0.3774 - val_accuracy: 0.8678 - lr: 0.0010\n",
      "Epoch 30/30\n",
      "56/56 [==============================] - ETA: 0s - loss: 0.2975 - accuracy: 0.8934WARNING:tensorflow:Learning rate reduction is conditioned on metric `val_acc` which is not available. Available metrics are: loss,accuracy,val_loss,val_accuracy,lr\n",
      "56/56 [==============================] - 16s 282ms/step - loss: 0.2975 - accuracy: 0.8934 - val_loss: 0.3828 - val_accuracy: 0.8733 - lr: 0.0010\n"
     ]
    }
   ],
   "source": [
    "batch_size = 64\n",
    "epochs = 30\n",
    "history = model.fit(train_datagen.flow(X_train,y_train, batch_size=batch_size),\n",
    "                              epochs = epochs, validation_data = val_datagen.flow(X_val, y_val),\n",
    "                              verbose = 1, steps_per_epoch=(X_train.shape[0] // batch_size),\n",
    "                              callbacks=[learning_rate_reduction])"
   ]
  },
  {
   "cell_type": "code",
   "execution_count": 70,
   "metadata": {
    "colab": {
     "base_uri": "https://localhost:8080/",
     "height": 86
    },
    "colab_type": "code",
    "id": "pzmhcKchK3fQ",
    "outputId": "255f9bf8-d123-435d-809f-219c47922e5f"
   },
   "outputs": [
    {
     "name": "stdout",
     "output_type": "stream",
     "text": [
      "16/16 [==============================] - 1s 34ms/step - loss: 0.3077 - accuracy: 0.8860\n",
      "29/29 [==============================] - 1s 37ms/step - loss: 0.3828 - accuracy: 0.8733\n",
      "Validation: accuracy = 0.873333  ;  loss_v = 0.382754\n",
      "Test: accuracy = 0.886000  ;  loss = 0.307741\n"
     ]
    }
   ],
   "source": [
    "loss_test, acc_test = model.evaluate(X_test, y_test, verbose=1)\n",
    "loss_val, acc_val = model.evaluate(X_val, y_val, verbose=1)\n",
    "print(\"Validation: accuracy = %f  ;  loss_v = %f\" % (acc_val, loss_val))\n",
    "print(\"Test: accuracy = %f  ;  loss = %f\" % (acc_test, loss_test))\n",
    "model.save(\"model.h5\")"
   ]
  },
  {
   "cell_type": "code",
   "execution_count": 72,
   "metadata": {
    "colab": {
     "base_uri": "https://localhost:8080/",
     "height": 560
    },
    "colab_type": "code",
    "id": "z-XsupKP_orF",
    "outputId": "69099e17-bae9-4886-c0e9-50a0c20be04a"
   },
   "outputs": [
    {
     "data": {
      "text/plain": [
       "Text(0.5, 1.0, 'Training and validation loss')"
      ]
     },
     "execution_count": 72,
     "metadata": {},
     "output_type": "execute_result"
    },
    {
     "data": {
      "image/png": "[encoded data removed]",
      "text/plain": [
       "<Figure size 432x288 with 1 Axes>"
      ]
     },
     "metadata": {
      "needs_background": "light"
     },
     "output_type": "display_data"
    },
    {
     "data": {
      "image/png": "[encoded data removed]",
      "text/plain": [
       "<Figure size 432x288 with 1 Axes>"
      ]
     },
     "metadata": {
      "needs_background": "light"
     },
     "output_type": "display_data"
    }
   ],
   "source": [
    "# Retrieve a list of accuracy results on training and test data\n",
    "# sets for each training epoch\n",
    "acc = history.history['accuracy']\n",
    "val_acc = history.history['val_accuracy']\n",
    "\n",
    "# Retrieve a list of list results on training and test data\n",
    "# sets for each training epoch\n",
    "loss = history.history['loss']\n",
    "val_loss = history.history['val_loss']\n",
    "\n",
    "# Get number of epochs\n",
    "epochs = range(len(acc))\n",
    "\n",
    "# Plot training and validation accuracy per epoch\n",
    "plt.plot(epochs, acc)\n",
    "plt.plot(epochs, val_acc)\n",
    "plt.title('Training and validation accuracy')\n",
    "\n",
    "plt.figure()\n",
    "\n",
    "# Plot training and validation loss per epoch\n",
    "plt.plot(epochs, loss)\n",
    "plt.plot(epochs, val_loss)\n",
    "plt.title('Training and validation loss')"
   ]
  },
  {
   "cell_type": "code",
   "execution_count": 0,
   "metadata": {
    "colab": {},
    "colab_type": "code",
    "id": "F3iwk30TLRbu"
   },
   "outputs": [],
   "source": []
  }
 ],
 "metadata": {
  "accelerator": "GPU",
  "colab": {
   "name": "Baseline_CNN.ipynb",
   "provenance": [],
   "version": "0.3.2"
  },
  "kernelspec": {
   "display_name": "Python 3 (ipykernel)",
   "language": "python",
   "name": "python3"
  },
  "language_info": {
   "codemirror_mode": {
    "name": "ipython",
    "version": 3
   },
   "file_extension": ".py",
   "mimetype": "text/x-python",
   "name": "python",
   "nbconvert_exporter": "python",
   "pygments_lexer": "ipython3",
   "version": "3.9.12"
  }
 },
 "nbformat": 4,
 "nbformat_minor": 1
}
